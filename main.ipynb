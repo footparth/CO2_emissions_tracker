{
 "cells": [
  {
   "cell_type": "markdown",
   "metadata": {},
   "source": [
    "# CO2 Emissions Tracker"
   ]
  },
  {
   "cell_type": "markdown",
   "metadata": {},
   "source": [
    "This will will contain:\n",
    "- Data extraction \n",
    "- Data visualation \n",
    "- Dataset creation \n",
    "- Model preperation\n",
    "- Training algorithm \n",
    "- Model testing\n",
    "- Model preview"
   ]
  },
  {
   "cell_type": "markdown",
   "metadata": {},
   "source": [
    "# Note"
   ]
  },
  {
   "cell_type": "markdown",
   "metadata": {},
   "source": [
    "In order to run the code, ensure a python environment is created and install the required packaged. "
   ]
  },
  {
   "cell_type": "markdown",
   "metadata": {},
   "source": [
    "## EDA "
   ]
  },
  {
   "cell_type": "markdown",
   "metadata": {},
   "source": [
    "### Data Perperation"
   ]
  },
  {
   "cell_type": "markdown",
   "metadata": {},
   "source": [
    "### Importing plugins"
   ]
  },
  {
   "cell_type": "code",
   "execution_count": 16,
   "metadata": {},
   "outputs": [],
   "source": [
    "import pandas as pd\n",
    "import numpy as np \n",
    "import torch\n",
    "import torch.nn as nn\n",
    "import lightning as l \n",
    "import matplotlib.pyplot as plt \n",
    "import plotly.express as px\n",
    "pd.options.plotting.backend = \"plotly\"\n",
    "pd.options.display.max_columns = 200\n",
    "\n",
    "\n"
   ]
  },
  {
   "cell_type": "markdown",
   "metadata": {},
   "source": [
    "### Step 1. Data Cleanup, and standardizing the format"
   ]
  },
  {
   "cell_type": "code",
   "execution_count": 39,
   "metadata": {},
   "outputs": [],
   "source": [
    "# loading in the data\n",
    "\n",
    "#importing CO2 emissions data\n",
    "co2_emission_data = pd.read_csv(filepath_or_buffer='./data/Annual CO2 Emissions.csv')\n",
    "gdp_data = pd.read_csv('./data/gdp/gdp_data.csv')\n",
    "country_stats = pd.read_csv('./data/inflation/inflation interest unemployment.csv')\n",
    "land_size =  pd.read_csv('./data/world_country_stats.csv')\n",
    "surface_temp = pd.read_csv('./data/temperature/Annual_Surface_Temperature_Change.csv')\n",
    "\n"
   ]
  },
  {
   "cell_type": "code",
   "execution_count": null,
   "metadata": {},
   "outputs": [],
   "source": [
    "gdp_data.columns"
   ]
  },
  {
   "cell_type": "code",
   "execution_count": 60,
   "metadata": {},
   "outputs": [],
   "source": [
    "# gdp_data[['country_name',  'country_code' , 'year', 'value']]\n",
    "country_stats = country_stats[['country', 'year', 'Inflation, consumer prices (annual %)',\n",
    "       'Inflation, GDP deflator (annual %)', 'Real interest rate (%)',\n",
    "       'Deposit interest rate (%)', 'Lending interest rate (%)',\n",
    "       'Unemployment, total (% of total labor force) (national estimate)',\n",
    "       'Unemployment, total (% of total labor force) (modeled ILO estimate)',\n",
    "       'iso3c', \n",
    "       #'iso2c', \n",
    "       #'adminregion', 'incomeLevel'\n",
    "       ]].copy()\n",
    "land_size = land_size[['country', \n",
    "                       #'region', \n",
    "                       'land_area', \n",
    "                       #'fertility_rate', 'median_age'\n",
    "                       ]].copy()\n",
    "\n",
    "surface_temp = surface_temp[[#'ObjectId', \n",
    "                            'Country', #'ISO2', \n",
    "                            'ISO3',# 'Indicator', 'Unit', 'Source',\n",
    "                            #'CTS_Code', 'CTS_Name', 'CTS_Full_Descriptor', \n",
    "                            '1961', '1962', '1963',\n",
    "                            '1964', '1965', '1966', '1967', '1968', '1969', '1970', '1971', '1972',\n",
    "                            '1973', '1974', '1975', '1976', '1977', '1978', '1979', '1980', '1981',\n",
    "                            '1982', '1983', '1984', '1985', '1986', '1987', '1988', '1989', '1990',\n",
    "                            '1991', '1992', '1993', '1994', '1995', '1996', '1997', '1998', '1999',\n",
    "                            '2000', '2001', '2002', '2003', '2004', '2005', '2006', '2007', '2008',\n",
    "                            '2009', '2010', '2011', '2012', '2013', '2014', '2015', '2016', '2017',\n",
    "                            '2018', '2019', '2020', '2021', '2022']].copy()\n",
    "co2_emission_data = co2_emission_data[['Entity', 'Code', 'Year', 'Annual CO2 Emissions (tonnes)']].copy()"
   ]
  },
  {
   "cell_type": "code",
   "execution_count": null,
   "metadata": {},
   "outputs": [],
   "source": [
    "## this section of code is to determine the year range for the different datasets\n",
    "## the suitable range has been chosen such that we are getting the maximum of the oldest year, and minimum of the most current year, \n",
    "## this ensures we avoid having too many missing values\n",
    "\n",
    "temp_years = [int(col) for col in surface_temp.columns if col.isdigit()]\n",
    "\n",
    "year_ranges = {\n",
    "    'CO2': (co2_emission_data['Year'].min(), co2_emission_data['Year'].max()),\n",
    "    'GDP': (gdp_data['year'].min(), gdp_data['year'].max()),\n",
    "    'Country Stats': (country_stats['year'].min(), country_stats['year'].max()),\n",
    "    'Temperature': (min(temp_years), max(temp_years))}\n",
    "\n",
    "# Print current ranges\n",
    "for dataset, (start, end) in year_ranges.items():\n",
    "    print(f\"{dataset}: {start} - {end}\")\n",
    "\n",
    "# Calculate optimal range\n",
    "optimal_start = max(range[0] for range in year_ranges.values())\n",
    "optimal_end = min(range[1] for range in year_ranges.values())\n",
    "\n",
    "print(f\"\\nOptimal year range: {optimal_start} - {optimal_end}\")"
   ]
  },
  {
   "cell_type": "code",
   "execution_count": 57,
   "metadata": {},
   "outputs": [],
   "source": [
    "# creating a function to standardize the datasets, so code is not repeated below. \n",
    "def std_dataset(df,id_columns,value_column, year_column='year'):\n",
    "    # input of id_column should be: country, iso3\n",
    "    if df[year_column].dtype != 'int64':\n",
    "        df[year_column] = pd.to_numeric(df[year_column],errors='coerce')\n",
    "    \n",
    "    #filtering for optimal range\n",
    "    df_filtered = df[\n",
    "                    (df[year_column] >= optimal_start) &\n",
    "                    (df[year_column] <= optimal_end)]\n",
    "    \n",
    "    # sorting by country code and year\n",
    "    df_filtered = df_filtered.sort_values([id_columns[1],year_column])\n",
    "\n",
    "    return df_filtered\n"
   ]
  },
  {
   "cell_type": "code",
   "execution_count": 61,
   "metadata": {},
   "outputs": [],
   "source": [
    "# reshaping the surface temperature dataset o that it is in long format (countries are the rows, years are the columns) \n",
    "surface_temp_long = surface_temp.melt(id_vars=['Country', 'ISO3'], var_name='year', value_name='temperature_change')\n",
    "\n",
    "#converting year to integer, and filtering out the optimal range\n",
    "surface_temp_long['year'] = pd.to_numeric(surface_temp_long['year'],errors='coerce')\n",
    "surface_temp_long = surface_temp_long[\n",
    "                                        (surface_temp_long['year'] >= optimal_start) &\n",
    "                                        (surface_temp_long['year'] <= optimal_end)]\n",
    "surface_temp_long = surface_temp_long.sort_values(['ISO3', 'year'])\n",
    "\n",
    "# Reshaping CO2 emissions to be in long format as well as optimal years\n",
    "co2_long = std_dataset(co2_emission_data, id_columns=['Entity', 'Code'], value_column='Annual CO2 Emissions (tonnes)', year_column='Year')\n",
    "\n",
    "# Reshaping GDP to be in long format as well as optimal years:\n",
    "gdp_long = std_dataset(gdp_data,id_columns=['country_name', 'country_code'],value_column='value', year_column='year')\n",
    "\n",
    "# reshaping country stats\n",
    "country_stats_long = std_dataset(country_stats,id_columns=['country','iso3c'], value_column=['Inflation, consumer prices (annual %)','Inflation, GDP deflator (annual %)','Real interest rate (%)', 'Deposit interest rate (%)', 'Lending interest rate (%)',\n",
    "       'Unemployment, total (% of total labor force) (national estimate)',\n",
    "       'Unemployment, total (% of total labor force) (modeled ILO estimate)'], year_column='year')\n",
    "\n",
    "\n",
    "\n",
    "\n",
    "\n",
    "\n"
   ]
  },
  {
   "cell_type": "code",
   "execution_count": 44,
   "metadata": {},
   "outputs": [],
   "source": [
    "\n",
    "\n",
    "\n",
    "\n",
    "co2_emission_structured_data = co2_emission_data.pivot(columns='Code',index='Year', values='Annual CO2 Emissions (tonnes)')\n",
    "\n",
    "\n",
    "# creating country codes index\n",
    "country_codes = co2_emission_data.set_index(['Code'])\n",
    "country_codes = country_codes.drop(axis='columns', labels=['Year','Annual CO2 Emissions (tonnes)'])\n",
    "country_codes.drop_duplicates(keep='first', inplace=True, ignore_index=False)\n",
    "\n",
    "country_mapping = country_codes['Entity'].to_dict()\n",
    "\n",
    "\n",
    "\n",
    "\n",
    "\n"
   ]
  },
  {
   "cell_type": "code",
   "execution_count": null,
   "metadata": {},
   "outputs": [],
   "source": [
    "# plotting the CO2 emisisons (time series plots)\n",
    "# Convert country_codes to a dictionary for easy lookup\n",
    "fig = px.line(testing, \n",
    "              title='CO2 Emissions by Country',\n",
    "              width=1500,\n",
    "              height=1000)\n",
    "\n",
    "# Update the trace names using your mapping\n",
    "for trace in fig.data:\n",
    "    # Get current name (country code) and find corresponding country name\n",
    "    country_code = trace.name\n",
    "    country_name = country_mapping.get(country_code, country_code)  # fallback to code if not found\n",
    "    trace.name = country_name  # Use assignment operator = instead of calling it as a function\n",
    "\n",
    "# Update layout with better labels\n",
    "fig.update_layout(\n",
    "    xaxis_title=\"Year\",\n",
    "    yaxis_title=\"CO2 Emissions (t)\",\n",
    "    title_x=0.5,  # Center the title\n",
    ")\n",
    "\n",
    "# Show the plot\n",
    "fig.show()"
   ]
  },
  {
   "cell_type": "code",
   "execution_count": null,
   "metadata": {},
   "outputs": [],
   "source": []
  }
 ],
 "metadata": {
  "kernelspec": {
   "display_name": "NN_ML",
   "language": "python",
   "name": "python3"
  },
  "language_info": {
   "codemirror_mode": {
    "name": "ipython",
    "version": 3
   },
   "file_extension": ".py",
   "mimetype": "text/x-python",
   "name": "python",
   "nbconvert_exporter": "python",
   "pygments_lexer": "ipython3",
   "version": "3.12.2"
  }
 },
 "nbformat": 4,
 "nbformat_minor": 2
}
